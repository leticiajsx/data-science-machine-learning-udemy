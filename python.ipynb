{
  "cells": [
    {
      "cell_type": "markdown",
      "metadata": {
        "id": "view-in-github",
        "colab_type": "text"
      },
      "source": [
        "<a href=\"https://colab.research.google.com/github/leticiajsx/data-science-machine-learning-udemy/blob/main/python.ipynb\" target=\"_parent\"><img src=\"https://colab.research.google.com/assets/colab-badge.svg\" alt=\"Open In Colab\"/></a>"
      ]
    },
    {
      "cell_type": "markdown",
      "metadata": {
        "id": "WrKZVmYCXWi0"
      },
      "source": [
        "# Variáveis"
      ]
    },
    {
      "cell_type": "code",
      "execution_count": null,
      "metadata": {
        "id": "mJVm32oHXWi4"
      },
      "outputs": [],
      "source": [
        "a = 3"
      ]
    },
    {
      "cell_type": "code",
      "execution_count": null,
      "metadata": {
        "id": "V0VbkN6qXWi5",
        "outputId": "3d2394b2-1ea0-40ad-d9ae-937a150d4993"
      },
      "outputs": [
        {
          "name": "stdout",
          "output_type": "stream",
          "text": [
            "3\n"
          ]
        }
      ],
      "source": [
        "print(a)"
      ]
    },
    {
      "cell_type": "code",
      "execution_count": null,
      "metadata": {
        "id": "Y9MjYO5IXWi6"
      },
      "outputs": [],
      "source": [
        "b = 2"
      ]
    },
    {
      "cell_type": "code",
      "execution_count": null,
      "metadata": {
        "id": "D2CIw6btXWi7",
        "outputId": "06219605-f79b-462d-9e91-c59583570d51"
      },
      "outputs": [
        {
          "name": "stdout",
          "output_type": "stream",
          "text": [
            "5\n"
          ]
        }
      ],
      "source": [
        "print(a+b)"
      ]
    },
    {
      "cell_type": "code",
      "execution_count": null,
      "metadata": {
        "id": "hWjApu5LXWi7"
      },
      "outputs": [],
      "source": [
        "c = '3'"
      ]
    },
    {
      "cell_type": "code",
      "execution_count": null,
      "metadata": {
        "id": "rdD-i3plXWi8",
        "outputId": "823b0bb8-dfa6-41be-f55b-1958e63b7cf7"
      },
      "outputs": [
        {
          "ename": "TypeError",
          "evalue": "unsupported operand type(s) for +: 'int' and 'str'",
          "output_type": "error",
          "traceback": [
            "\u001b[0;31m---------------------------------------------------------------------------\u001b[0m",
            "\u001b[0;31mTypeError\u001b[0m                                 Traceback (most recent call last)",
            "\u001b[0;32m<ipython-input-6-4fac3b0fd9fa>\u001b[0m in \u001b[0;36m<module>\u001b[0;34m\u001b[0m\n\u001b[0;32m----> 1\u001b[0;31m \u001b[0mprint\u001b[0m\u001b[0;34m(\u001b[0m\u001b[0mb\u001b[0m\u001b[0;34m+\u001b[0m\u001b[0mc\u001b[0m\u001b[0;34m)\u001b[0m\u001b[0;34m\u001b[0m\u001b[0;34m\u001b[0m\u001b[0m\n\u001b[0m",
            "\u001b[0;31mTypeError\u001b[0m: unsupported operand type(s) for +: 'int' and 'str'"
          ]
        }
      ],
      "source": [
        "print(b+c)"
      ]
    },
    {
      "cell_type": "code",
      "execution_count": null,
      "metadata": {
        "id": "3k0JVwbVXWi8"
      },
      "outputs": [],
      "source": [
        "d = '4'"
      ]
    },
    {
      "cell_type": "code",
      "execution_count": null,
      "metadata": {
        "id": "e43pX39XXWi9",
        "outputId": "6d310336-ef44-4c79-f934-141e767f373a"
      },
      "outputs": [
        {
          "name": "stdout",
          "output_type": "stream",
          "text": [
            "34\n"
          ]
        }
      ],
      "source": [
        "print(c+d)"
      ]
    },
    {
      "cell_type": "code",
      "execution_count": null,
      "metadata": {
        "id": "0W-VO9scXWi9",
        "outputId": "9f4ab3a6-771c-4252-dbef-fbb7c8e5ec63"
      },
      "outputs": [
        {
          "data": {
            "text/plain": [
              "str"
            ]
          },
          "execution_count": 9,
          "metadata": {},
          "output_type": "execute_result"
        }
      ],
      "source": [
        "type(c)"
      ]
    },
    {
      "cell_type": "code",
      "execution_count": null,
      "metadata": {
        "id": "h3uqSMbKXWi-",
        "outputId": "1931dd8f-8523-4cc6-c7b1-3d62ec928dc7"
      },
      "outputs": [
        {
          "data": {
            "text/plain": [
              "int"
            ]
          },
          "execution_count": 10,
          "metadata": {},
          "output_type": "execute_result"
        }
      ],
      "source": [
        "type(a)"
      ]
    },
    {
      "cell_type": "code",
      "execution_count": null,
      "metadata": {
        "id": "mdk8j0ZaXWi-",
        "outputId": "4fd77287-1693-4c5d-9be5-64f33ab1b629"
      },
      "outputs": [
        {
          "data": {
            "text/plain": [
              "7"
            ]
          },
          "execution_count": 16,
          "metadata": {},
          "output_type": "execute_result"
        }
      ],
      "source": [
        "int(c)+int(d)"
      ]
    },
    {
      "cell_type": "code",
      "execution_count": null,
      "metadata": {
        "id": "Z9isaq8YXWi_"
      },
      "outputs": [],
      "source": [
        "a, b, c = 1, 2, 3"
      ]
    },
    {
      "cell_type": "code",
      "execution_count": null,
      "metadata": {
        "id": "qqhICPf6XWi_",
        "outputId": "d7e4f530-3679-49b8-bea6-bf0fc6f95cc3"
      },
      "outputs": [
        {
          "data": {
            "text/plain": [
              "1"
            ]
          },
          "execution_count": 23,
          "metadata": {},
          "output_type": "execute_result"
        }
      ],
      "source": [
        "a"
      ]
    },
    {
      "cell_type": "code",
      "execution_count": null,
      "metadata": {
        "id": "D5zKMCx0XWi_",
        "outputId": "7bb18a3a-1918-4e2a-a5b8-36500a08ce19"
      },
      "outputs": [
        {
          "data": {
            "text/plain": [
              "2"
            ]
          },
          "execution_count": 24,
          "metadata": {},
          "output_type": "execute_result"
        }
      ],
      "source": [
        "b"
      ]
    },
    {
      "cell_type": "code",
      "execution_count": null,
      "metadata": {
        "id": "wl26n2JyXWjA",
        "outputId": "78dd3331-a78d-456f-89f2-e9cbdfd103c1"
      },
      "outputs": [
        {
          "data": {
            "text/plain": [
              "3"
            ]
          },
          "execution_count": 25,
          "metadata": {},
          "output_type": "execute_result"
        }
      ],
      "source": [
        "c"
      ]
    },
    {
      "cell_type": "code",
      "execution_count": null,
      "metadata": {
        "id": "RrYpfZ0iXWjA"
      },
      "outputs": [],
      "source": [
        "d = \"String aspas duplas\""
      ]
    },
    {
      "cell_type": "code",
      "execution_count": null,
      "metadata": {
        "id": "9MUvY6QqXWjB"
      },
      "outputs": [],
      "source": [
        "e = 'String de aspas simples'"
      ]
    },
    {
      "cell_type": "code",
      "execution_count": null,
      "metadata": {
        "id": "2W80xgTAXWjB"
      },
      "outputs": [],
      "source": [
        "f = \"A letra 'b' está entre aspas\""
      ]
    },
    {
      "cell_type": "code",
      "execution_count": null,
      "metadata": {
        "id": "-g9ajC-VXWjB",
        "outputId": "d5a8ed1d-ab9d-4d92-b27d-173cf09e0de7"
      },
      "outputs": [
        {
          "data": {
            "text/plain": [
              "\"A letra 'b' está entre aspas\""
            ]
          },
          "execution_count": 31,
          "metadata": {},
          "output_type": "execute_result"
        }
      ],
      "source": [
        "f"
      ]
    },
    {
      "cell_type": "code",
      "execution_count": null,
      "metadata": {
        "id": "VZdK1GedXWjC"
      },
      "outputs": [],
      "source": [
        "g = 'A letra \"b\" está entre aspas'"
      ]
    },
    {
      "cell_type": "code",
      "execution_count": null,
      "metadata": {
        "id": "kv2Z7cpTXWjC",
        "outputId": "b79d498f-b528-4a0a-ec1c-a8dfb2bd6400"
      },
      "outputs": [
        {
          "data": {
            "text/plain": [
              "'A letra \"b\" está entre aspas'"
            ]
          },
          "execution_count": 33,
          "metadata": {},
          "output_type": "execute_result"
        }
      ],
      "source": [
        "g"
      ]
    },
    {
      "cell_type": "code",
      "execution_count": null,
      "metadata": {
        "id": "3iU_azSjXWjC"
      },
      "outputs": [],
      "source": [
        "h = \"A letra \\\"b\\\" está entre aspas\""
      ]
    },
    {
      "cell_type": "code",
      "execution_count": null,
      "metadata": {
        "id": "hSmry-D5XWjC",
        "outputId": "64941869-fe62-4ecd-b2c0-d4c299215acf"
      },
      "outputs": [
        {
          "data": {
            "text/plain": [
              "'A letra \"b\" está entre aspas'"
            ]
          },
          "execution_count": 36,
          "metadata": {},
          "output_type": "execute_result"
        }
      ],
      "source": [
        "h"
      ]
    },
    {
      "cell_type": "code",
      "execution_count": null,
      "metadata": {
        "id": "CV6ywrccXWjD"
      },
      "outputs": [],
      "source": [
        "minha_variavel_com_nome_grande = \"Com underline para separar as palavras\""
      ]
    },
    {
      "cell_type": "code",
      "execution_count": null,
      "metadata": {
        "id": "csS0O_iMXWjD"
      },
      "outputs": [],
      "source": [
        "varial1 = \"Permitido\""
      ]
    },
    {
      "cell_type": "code",
      "execution_count": null,
      "metadata": {
        "id": "1Ldb2hUTXWjD",
        "outputId": "328671ba-8252-4ff4-ac05-abe2ec44a245"
      },
      "outputs": [
        {
          "ename": "SyntaxError",
          "evalue": "invalid syntax (<ipython-input-39-0a9e95accbec>, line 1)",
          "output_type": "error",
          "traceback": [
            "\u001b[0;36m  File \u001b[0;32m\"<ipython-input-39-0a9e95accbec>\"\u001b[0;36m, line \u001b[0;32m1\u001b[0m\n\u001b[0;31m    1variavel = \"Não Funciona\"\u001b[0m\n\u001b[0m            ^\u001b[0m\n\u001b[0;31mSyntaxError\u001b[0m\u001b[0;31m:\u001b[0m invalid syntax\n"
          ]
        }
      ],
      "source": [
        "1variavel = \"Não Funciona\""
      ]
    },
    {
      "cell_type": "code",
      "execution_count": null,
      "metadata": {
        "id": "EfTXleFYXWjD"
      },
      "outputs": [],
      "source": [
        "varial123variavel = \"Funciona\""
      ]
    },
    {
      "cell_type": "code",
      "execution_count": null,
      "metadata": {
        "id": "vdF0ZCJcXWjD"
      },
      "outputs": [],
      "source": [
        "i = 10.30"
      ]
    },
    {
      "cell_type": "code",
      "execution_count": null,
      "metadata": {
        "id": "svnYssSVXWjD"
      },
      "outputs": [],
      "source": [
        "j = True"
      ]
    },
    {
      "cell_type": "code",
      "execution_count": null,
      "metadata": {
        "id": "bViASjJ1XWjE",
        "outputId": "4bbb7eb1-eb1e-43c8-ac28-9b1cb06f3514"
      },
      "outputs": [
        {
          "data": {
            "text/plain": [
              "float"
            ]
          },
          "execution_count": 43,
          "metadata": {},
          "output_type": "execute_result"
        }
      ],
      "source": [
        "type(i)"
      ]
    },
    {
      "cell_type": "code",
      "execution_count": null,
      "metadata": {
        "id": "rRtoNfwZXWjE",
        "outputId": "fe8b5158-cd4a-4621-a946-035b9e902318"
      },
      "outputs": [
        {
          "data": {
            "text/plain": [
              "bool"
            ]
          },
          "execution_count": 44,
          "metadata": {},
          "output_type": "execute_result"
        }
      ],
      "source": [
        "type(j)"
      ]
    },
    {
      "cell_type": "code",
      "execution_count": null,
      "metadata": {
        "id": "KTfbhBDTXWjE"
      },
      "outputs": [],
      "source": [
        ""
      ]
    },
    {
      "cell_type": "markdown",
      "metadata": {
        "id": "Std0xYNvXh_3"
      },
      "source": [
        "# Operadores Aritméticos"
      ]
    },
    {
      "cell_type": "code",
      "execution_count": null,
      "metadata": {
        "id": "81eRJtUpXh_5",
        "outputId": "a923f41a-4c02-4d01-a280-77b8d534c83e"
      },
      "outputs": [
        {
          "data": {
            "text/plain": [
              "5"
            ]
          },
          "execution_count": 1,
          "metadata": {},
          "output_type": "execute_result"
        }
      ],
      "source": [
        "3 + 2"
      ]
    },
    {
      "cell_type": "code",
      "execution_count": null,
      "metadata": {
        "id": "pQDRp5JtXh_6",
        "outputId": "a0c9b57c-119b-4e72-d923-3b55874d490b"
      },
      "outputs": [
        {
          "data": {
            "text/plain": [
              "-1"
            ]
          },
          "execution_count": 2,
          "metadata": {},
          "output_type": "execute_result"
        }
      ],
      "source": [
        "2 - 3"
      ]
    },
    {
      "cell_type": "code",
      "execution_count": null,
      "metadata": {
        "id": "tDtAXw90Xh_6",
        "outputId": "f729bea8-0477-4fb6-f049-d310893ae3b6"
      },
      "outputs": [
        {
          "data": {
            "text/plain": [
              "6"
            ]
          },
          "execution_count": 3,
          "metadata": {},
          "output_type": "execute_result"
        }
      ],
      "source": [
        "3 * 2"
      ]
    },
    {
      "cell_type": "code",
      "execution_count": null,
      "metadata": {
        "id": "jImg6Q9nXh_7",
        "outputId": "09eb4525-0fb5-468c-c140-a686bac787b3"
      },
      "outputs": [
        {
          "data": {
            "text/plain": [
              "1.0"
            ]
          },
          "execution_count": 4,
          "metadata": {},
          "output_type": "execute_result"
        }
      ],
      "source": [
        "3 / 3"
      ]
    },
    {
      "cell_type": "code",
      "execution_count": null,
      "metadata": {
        "id": "l3IRZMl5Xh_7",
        "outputId": "866d6291-d8db-434e-fdc8-1e1cdbdf3f7c"
      },
      "outputs": [
        {
          "data": {
            "text/plain": [
              "81"
            ]
          },
          "execution_count": 7,
          "metadata": {},
          "output_type": "execute_result"
        }
      ],
      "source": [
        "3 ** 4"
      ]
    },
    {
      "cell_type": "code",
      "execution_count": null,
      "metadata": {
        "id": "wUw3BV0bXh_7",
        "outputId": "9d20df56-16d5-4cbc-c5b5-3eb5717a544e"
      },
      "outputs": [
        {
          "data": {
            "text/plain": [
              "1"
            ]
          },
          "execution_count": 9,
          "metadata": {},
          "output_type": "execute_result"
        }
      ],
      "source": [
        "10%3 # resto da divisao"
      ]
    },
    {
      "cell_type": "markdown",
      "metadata": {
        "id": "0tmKHRQWXh_8"
      },
      "source": [
        "# Operadores Lógicos "
      ]
    },
    {
      "cell_type": "code",
      "execution_count": null,
      "metadata": {
        "id": "1LvA6Q7qXh_8"
      },
      "outputs": [],
      "source": [
        "dois = 2"
      ]
    },
    {
      "cell_type": "code",
      "execution_count": null,
      "metadata": {
        "id": "LhonvhxiXh_8",
        "outputId": "5dd15715-5ec1-454a-ff03-0285410bcbbf"
      },
      "outputs": [
        {
          "data": {
            "text/plain": [
              "True"
            ]
          },
          "execution_count": 11,
          "metadata": {},
          "output_type": "execute_result"
        }
      ],
      "source": [
        "dois == 2"
      ]
    },
    {
      "cell_type": "code",
      "execution_count": null,
      "metadata": {
        "id": "Jdy1y4EtXh_9",
        "outputId": "2dbb4a4d-7637-4956-a6be-4a3e9fa4e0da"
      },
      "outputs": [
        {
          "data": {
            "text/plain": [
              "True"
            ]
          },
          "execution_count": 15,
          "metadata": {},
          "output_type": "execute_result"
        }
      ],
      "source": [
        "dois != 3"
      ]
    },
    {
      "cell_type": "code",
      "execution_count": null,
      "metadata": {
        "id": "-3YydwJQXh_9",
        "outputId": "f68c1134-c6cf-4d7d-bcf1-fa29de24ff5c"
      },
      "outputs": [
        {
          "data": {
            "text/plain": [
              "True"
            ]
          },
          "execution_count": 14,
          "metadata": {},
          "output_type": "execute_result"
        }
      ],
      "source": [
        "dois < 3"
      ]
    },
    {
      "cell_type": "code",
      "execution_count": null,
      "metadata": {
        "id": "hyEMi8DRXh_9",
        "outputId": "676bf85e-6757-4cbd-ae4d-645d2a87a62d"
      },
      "outputs": [
        {
          "data": {
            "text/plain": [
              "False"
            ]
          },
          "execution_count": 16,
          "metadata": {},
          "output_type": "execute_result"
        }
      ],
      "source": [
        "dois >= 3"
      ]
    },
    {
      "cell_type": "code",
      "execution_count": null,
      "metadata": {
        "id": "hEioypSJXh_9",
        "outputId": "6c53d5b8-b279-467a-bd2d-24180ce8e0ee"
      },
      "outputs": [
        {
          "data": {
            "text/plain": [
              "True"
            ]
          },
          "execution_count": 17,
          "metadata": {},
          "output_type": "execute_result"
        }
      ],
      "source": [
        "dois <= 3"
      ]
    },
    {
      "cell_type": "markdown",
      "metadata": {
        "id": "QuWLtgcBXh_-"
      },
      "source": [
        "# Operadores de Comparação"
      ]
    },
    {
      "cell_type": "code",
      "execution_count": null,
      "metadata": {
        "id": "jMerGPg7Xh_-"
      },
      "outputs": [],
      "source": [
        "Mentira = False"
      ]
    },
    {
      "cell_type": "code",
      "execution_count": null,
      "metadata": {
        "id": "6tUlJA_EXh_-"
      },
      "outputs": [],
      "source": [
        "Verdade = True"
      ]
    },
    {
      "cell_type": "code",
      "execution_count": null,
      "metadata": {
        "id": "fAAot5QJXh_-",
        "outputId": "669bf4a6-f9b7-499f-f7a3-178e22621a02"
      },
      "outputs": [
        {
          "data": {
            "text/plain": [
              "False"
            ]
          },
          "execution_count": 20,
          "metadata": {},
          "output_type": "execute_result"
        }
      ],
      "source": [
        "Verdade and Mentira # Verdade e Mentira"
      ]
    },
    {
      "cell_type": "code",
      "execution_count": null,
      "metadata": {
        "id": "8cCKbbVcXh__",
        "outputId": "3a4b2277-d316-4744-d861-93d35f50cf5c"
      },
      "outputs": [
        {
          "data": {
            "text/plain": [
              "False"
            ]
          },
          "execution_count": 21,
          "metadata": {},
          "output_type": "execute_result"
        }
      ],
      "source": [
        "Verdade & Mentira # Verdade e Mentira"
      ]
    },
    {
      "cell_type": "code",
      "execution_count": null,
      "metadata": {
        "id": "qJXWSoMIXh__",
        "outputId": "de881a32-fcd5-45c0-93ef-0f443201123f"
      },
      "outputs": [
        {
          "data": {
            "text/plain": [
              "True"
            ]
          },
          "execution_count": 22,
          "metadata": {},
          "output_type": "execute_result"
        }
      ],
      "source": [
        "Verdade or Mentira # Verdade ou Mentira"
      ]
    },
    {
      "cell_type": "code",
      "execution_count": null,
      "metadata": {
        "id": "iHq6i7lXXh__",
        "outputId": "8a31153b-527b-40f9-e9ad-24f844a8ac42"
      },
      "outputs": [
        {
          "data": {
            "text/plain": [
              "True"
            ]
          },
          "execution_count": 23,
          "metadata": {},
          "output_type": "execute_result"
        }
      ],
      "source": [
        "Verdade | Mentira # Verdade ou Mentira"
      ]
    },
    {
      "cell_type": "code",
      "execution_count": null,
      "metadata": {
        "id": "9ZZLjWKHXiAA",
        "outputId": "48fb667c-3cda-4bd8-d4ea-595d97593b50"
      },
      "outputs": [
        {
          "data": {
            "text/plain": [
              "True"
            ]
          },
          "execution_count": 24,
          "metadata": {},
          "output_type": "execute_result"
        }
      ],
      "source": [
        "not Mentira"
      ]
    },
    {
      "cell_type": "code",
      "execution_count": null,
      "metadata": {
        "id": "Qbpx59v7XiAA",
        "outputId": "44ead1a6-62b8-42e9-c2a4-1725ea21edad"
      },
      "outputs": [
        {
          "data": {
            "text/plain": [
              "False"
            ]
          },
          "execution_count": 25,
          "metadata": {},
          "output_type": "execute_result"
        }
      ],
      "source": [
        "not Verdade"
      ]
    },
    {
      "cell_type": "code",
      "execution_count": null,
      "metadata": {
        "id": "oGPhj6iPXiAA",
        "outputId": "5ba3b090-1dfb-4d37-a779-a60d18e964e6"
      },
      "outputs": [
        {
          "data": {
            "text/plain": [
              "True"
            ]
          },
          "execution_count": 26,
          "metadata": {},
          "output_type": "execute_result"
        }
      ],
      "source": [
        "Verdade and not Mentira"
      ]
    },
    {
      "cell_type": "code",
      "execution_count": null,
      "metadata": {
        "id": "r6UjSsJTXiAA",
        "outputId": "74d6bebc-4a9e-4862-d832-a2174aaa229d"
      },
      "outputs": [
        {
          "data": {
            "text/plain": [
              "False"
            ]
          },
          "execution_count": 28,
          "metadata": {},
          "output_type": "execute_result"
        }
      ],
      "source": [
        "not Verdade and not Mentira"
      ]
    },
    {
      "cell_type": "markdown",
      "source": [
        "# Métodos e Funções"
      ],
      "metadata": {
        "id": "61s8SZkDZ0lQ"
      }
    },
    {
      "cell_type": "code",
      "execution_count": null,
      "metadata": {
        "id": "Qgey01KYXx4i"
      },
      "outputs": [],
      "source": [
        "def meu_metodo_print():\n",
        "    print('Ola')\n",
        "    print('Mundo')"
      ]
    },
    {
      "cell_type": "code",
      "execution_count": null,
      "metadata": {
        "id": "_wl78J-AXx4n",
        "outputId": "425d4b30-db1d-48a8-b739-ee121a150062"
      },
      "outputs": [
        {
          "name": "stdout",
          "output_type": "stream",
          "text": [
            "Ola\n",
            "Mundo\n"
          ]
        }
      ],
      "source": [
        "meu_metodo_print()"
      ]
    },
    {
      "cell_type": "code",
      "execution_count": null,
      "metadata": {
        "id": "gy8DJkslXx4o",
        "outputId": "32e1b0f7-2bba-4911-de67-6406a3836307"
      },
      "outputs": [
        {
          "name": "stdout",
          "output_type": "stream",
          "text": [
            "Ola\n",
            "Mundo\n"
          ]
        }
      ],
      "source": [
        "meu_metodo_print()"
      ]
    },
    {
      "cell_type": "code",
      "execution_count": null,
      "metadata": {
        "id": "uu_Ncy-BXx4o"
      },
      "outputs": [],
      "source": [
        "def soma_dois_valores(valor1, valor2):\n",
        "    return valor1 + valor2"
      ]
    },
    {
      "cell_type": "code",
      "execution_count": null,
      "metadata": {
        "id": "MA8QkRf1Xx4p",
        "outputId": "26de67fe-997d-41b6-abe3-534877087050"
      },
      "outputs": [
        {
          "data": {
            "text/plain": [
              "8"
            ]
          },
          "execution_count": 12,
          "metadata": {},
          "output_type": "execute_result"
        }
      ],
      "source": [
        "soma_dois_valores(3, 5)"
      ]
    },
    {
      "cell_type": "code",
      "execution_count": null,
      "metadata": {
        "id": "BIz4GXuxXx4p",
        "outputId": "8e127b79-d10c-486b-a988-924a41f562a8"
      },
      "outputs": [
        {
          "name": "stdout",
          "output_type": "stream",
          "text": [
            "Ola\n"
          ]
        }
      ],
      "source": [
        "print('Ola')"
      ]
    },
    {
      "cell_type": "code",
      "execution_count": null,
      "metadata": {
        "id": "R3wIF6enXx4q",
        "outputId": "82d22f79-8ce4-4fcd-b5da-efe5a491c521"
      },
      "outputs": [
        {
          "data": {
            "text/plain": [
              "3"
            ]
          },
          "execution_count": 14,
          "metadata": {},
          "output_type": "execute_result"
        }
      ],
      "source": [
        "int('3')"
      ]
    },
    {
      "cell_type": "code",
      "execution_count": null,
      "metadata": {
        "id": "UZagLkCgXx4q",
        "outputId": "66fa39bd-8b65-4311-97b2-bdc3c503226c"
      },
      "outputs": [
        {
          "data": {
            "text/plain": [
              "10"
            ]
          },
          "execution_count": 15,
          "metadata": {},
          "output_type": "execute_result"
        }
      ],
      "source": [
        "int(10.3)"
      ]
    },
    {
      "cell_type": "code",
      "execution_count": null,
      "metadata": {
        "id": "1mnTYXQCXx4r",
        "outputId": "7968b674-ddbc-42f0-aade-7212dc5da4ac"
      },
      "outputs": [
        {
          "data": {
            "text/plain": [
              "10.0"
            ]
          },
          "execution_count": 16,
          "metadata": {},
          "output_type": "execute_result"
        }
      ],
      "source": [
        "float(10)"
      ]
    },
    {
      "cell_type": "code",
      "execution_count": null,
      "metadata": {
        "id": "CW4DaIKjXx4s",
        "outputId": "813f315b-8cee-414e-dc8a-eb2ef30dd77c"
      },
      "outputs": [
        {
          "data": {
            "text/plain": [
              "'10'"
            ]
          },
          "execution_count": 17,
          "metadata": {},
          "output_type": "execute_result"
        }
      ],
      "source": [
        "str(10)"
      ]
    },
    {
      "cell_type": "code",
      "execution_count": null,
      "metadata": {
        "id": "qzShSF1pXx4s",
        "outputId": "1cae21ed-c68c-4f87-f25d-f0887913c812"
      },
      "outputs": [
        {
          "data": {
            "text/plain": [
              "3"
            ]
          },
          "execution_count": 18,
          "metadata": {},
          "output_type": "execute_result"
        }
      ],
      "source": [
        "len('Ola') # length tamanho"
      ]
    },
    {
      "cell_type": "code",
      "execution_count": null,
      "metadata": {
        "id": "UZhJd3dAXx4t"
      },
      "outputs": [],
      "source": [
        "x = -10"
      ]
    },
    {
      "cell_type": "code",
      "execution_count": null,
      "metadata": {
        "id": "lAvdc5DRXx4t",
        "outputId": "e1412474-fc09-4c70-e641-905b5c36d414"
      },
      "outputs": [
        {
          "data": {
            "text/plain": [
              "-10"
            ]
          },
          "execution_count": 20,
          "metadata": {},
          "output_type": "execute_result"
        }
      ],
      "source": [
        "x"
      ]
    },
    {
      "cell_type": "code",
      "execution_count": null,
      "metadata": {
        "id": "mt1rk32bXx4t",
        "outputId": "9ae04282-953a-4146-9cd2-1921bbaa8eb8"
      },
      "outputs": [
        {
          "data": {
            "text/plain": [
              "56"
            ]
          },
          "execution_count": 22,
          "metadata": {},
          "output_type": "execute_result"
        }
      ],
      "source": [
        "abs(-56)"
      ]
    },
    {
      "cell_type": "code",
      "execution_count": null,
      "metadata": {
        "id": "yR6Ql5m-Xx4u"
      },
      "outputs": [],
      "source": [
        "listas = [1,2,3,4,5]"
      ]
    },
    {
      "cell_type": "code",
      "execution_count": null,
      "metadata": {
        "id": "vvwlc6xPXx4u",
        "outputId": "f4e49833-3f5e-4af4-b823-578f365a17d3"
      },
      "outputs": [
        {
          "data": {
            "text/plain": [
              "15"
            ]
          },
          "execution_count": 24,
          "metadata": {},
          "output_type": "execute_result"
        }
      ],
      "source": [
        "sum(listas)"
      ]
    },
    {
      "cell_type": "code",
      "execution_count": null,
      "metadata": {
        "id": "-kYmmvNzXx4u",
        "outputId": "471a5d3f-4f24-4b45-ecde-76752494fd20"
      },
      "outputs": [
        {
          "data": {
            "text/plain": [
              "5"
            ]
          },
          "execution_count": 25,
          "metadata": {},
          "output_type": "execute_result"
        }
      ],
      "source": [
        "len(listas)"
      ]
    },
    {
      "cell_type": "code",
      "execution_count": null,
      "metadata": {
        "id": "Rh6AJoKqXx4v",
        "outputId": "cdae2709-06bd-41af-bc9a-a5e08634b270"
      },
      "outputs": [
        {
          "data": {
            "text/plain": [
              "5"
            ]
          },
          "execution_count": 26,
          "metadata": {},
          "output_type": "execute_result"
        }
      ],
      "source": [
        "max(listas)"
      ]
    },
    {
      "cell_type": "code",
      "execution_count": null,
      "metadata": {
        "id": "xv4n1Ad4Xx4v",
        "outputId": "f82e5ac4-2c6e-4c14-82f2-7744f10eedb9"
      },
      "outputs": [
        {
          "data": {
            "text/plain": [
              "1"
            ]
          },
          "execution_count": 27,
          "metadata": {},
          "output_type": "execute_result"
        }
      ],
      "source": [
        "min(listas)"
      ]
    },
    {
      "cell_type": "code",
      "execution_count": null,
      "metadata": {
        "id": "lrTxpQ4IXx4v",
        "outputId": "c2ce17c5-61c1-46ab-a81f-5a5e09685415"
      },
      "outputs": [
        {
          "data": {
            "text/plain": [
              "14"
            ]
          },
          "execution_count": 29,
          "metadata": {},
          "output_type": "execute_result"
        }
      ],
      "source": [
        "round(13.57)"
      ]
    },
    {
      "cell_type": "code",
      "execution_count": null,
      "metadata": {
        "id": "ftKkPb7sXx4w",
        "outputId": "61cc6feb-bb98-4166-89ce-b3617cde118e"
      },
      "outputs": [
        {
          "data": {
            "text/plain": [
              "14"
            ]
          },
          "execution_count": 37,
          "metadata": {},
          "output_type": "execute_result"
        }
      ],
      "source": [
        "round(13.579)"
      ]
    },
    {
      "cell_type": "code",
      "execution_count": null,
      "metadata": {
        "id": "zbORqro_Xx4w"
      },
      "outputs": [],
      "source": [
        ""
      ]
    },
    {
      "cell_type": "code",
      "execution_count": null,
      "metadata": {
        "id": "Fz3dXgryX4rl"
      },
      "outputs": [],
      "source": [
        "nota1 = 1\n",
        "nota2 = 5\n",
        "nota3 = 6\n",
        "nota4 = 3\n",
        "nota5 = 8\n",
        "nota6 = 2\n",
        "nota7 = 6\n",
        "nota8 = 7\n",
        "nota9 = 6\n",
        "nota10 = 10"
      ]
    },
    {
      "cell_type": "code",
      "execution_count": null,
      "metadata": {
        "id": "pZM0TUXfX4rp",
        "outputId": "6c31b98b-4aff-4525-d458-4c3dd3a4fd6b"
      },
      "outputs": [
        {
          "data": {
            "text/plain": [
              "4.6"
            ]
          },
          "execution_count": 2,
          "metadata": {},
          "output_type": "execute_result"
        }
      ],
      "source": [
        "(nota1+nota2+nota3+nota4+nota5)/5"
      ]
    },
    {
      "cell_type": "markdown",
      "metadata": {
        "id": "LqfANPh_X4rq"
      },
      "source": [
        "# Listas"
      ]
    },
    {
      "cell_type": "code",
      "execution_count": null,
      "metadata": {
        "id": "mXyweQn9X4rr"
      },
      "outputs": [],
      "source": [
        "notas = [2,3,6,8,9,5,6,7,1,8]"
      ]
    },
    {
      "cell_type": "code",
      "execution_count": null,
      "metadata": {
        "id": "Y5OVQUbzX4rs",
        "outputId": "bcadcd28-53ca-4cc4-b738-8c285a3a78a3"
      },
      "outputs": [
        {
          "data": {
            "text/plain": [
              "[2, 3, 6, 8, 9, 5, 6, 7, 1, 8]"
            ]
          },
          "execution_count": 4,
          "metadata": {},
          "output_type": "execute_result"
        }
      ],
      "source": [
        "notas"
      ]
    },
    {
      "cell_type": "code",
      "execution_count": null,
      "metadata": {
        "id": "Qx0wvVoiX4rs"
      },
      "outputs": [],
      "source": [
        "notas.append(9)"
      ]
    },
    {
      "cell_type": "code",
      "execution_count": null,
      "metadata": {
        "id": "nsb_rMkVX4rt",
        "outputId": "87260bcf-8de0-45a2-e85f-91455014969e"
      },
      "outputs": [
        {
          "data": {
            "text/plain": [
              "64"
            ]
          },
          "execution_count": 6,
          "metadata": {},
          "output_type": "execute_result"
        }
      ],
      "source": [
        "sum(notas)"
      ]
    },
    {
      "cell_type": "code",
      "execution_count": null,
      "metadata": {
        "id": "hgTRiO5ZX4ru",
        "outputId": "9985e8b0-7073-4eea-ce93-949f13527aee"
      },
      "outputs": [
        {
          "data": {
            "text/plain": [
              "11"
            ]
          },
          "execution_count": 7,
          "metadata": {},
          "output_type": "execute_result"
        }
      ],
      "source": [
        "len(notas)"
      ]
    },
    {
      "cell_type": "code",
      "execution_count": null,
      "metadata": {
        "id": "ydwR65lxX4ru",
        "outputId": "bbe3661b-191e-4190-c1a3-5cf25d2b85b8"
      },
      "outputs": [
        {
          "data": {
            "text/plain": [
              "5.818181818181818"
            ]
          },
          "execution_count": 8,
          "metadata": {},
          "output_type": "execute_result"
        }
      ],
      "source": [
        "media = sum(notas)/len(notas)\n",
        "media"
      ]
    },
    {
      "cell_type": "markdown",
      "metadata": {
        "id": "q4HrUgVHX4rv"
      },
      "source": [
        "# Tuplas"
      ]
    },
    {
      "cell_type": "code",
      "execution_count": null,
      "metadata": {
        "id": "Ko4hry3aX4rv"
      },
      "outputs": [],
      "source": [
        "notas_tuplas = (3,5,6,1)"
      ]
    },
    {
      "cell_type": "code",
      "execution_count": null,
      "metadata": {
        "id": "-6LqTRokX4rw"
      },
      "outputs": [],
      "source": [
        "notas_tuplas = notas_tuplas + (7,)"
      ]
    },
    {
      "cell_type": "code",
      "execution_count": null,
      "metadata": {
        "id": "Dek-xLz1X4rw",
        "outputId": "abaa0a56-dd29-45ee-fcc9-4f760664af83"
      },
      "outputs": [
        {
          "data": {
            "text/plain": [
              "(3, 5, 6, 1, 7)"
            ]
          },
          "execution_count": 11,
          "metadata": {},
          "output_type": "execute_result"
        }
      ],
      "source": [
        "notas_tuplas"
      ]
    },
    {
      "cell_type": "code",
      "execution_count": null,
      "metadata": {
        "id": "tbap-aZqX4rw"
      },
      "outputs": [],
      "source": [
        "notas_tuplas += (8,)"
      ]
    },
    {
      "cell_type": "code",
      "execution_count": null,
      "metadata": {
        "id": "dasVrKJIX4rx",
        "outputId": "a764e07b-3210-48f5-fd12-ead7c61df11c"
      },
      "outputs": [
        {
          "data": {
            "text/plain": [
              "(3, 5, 6, 1, 7, 8)"
            ]
          },
          "execution_count": 13,
          "metadata": {},
          "output_type": "execute_result"
        }
      ],
      "source": [
        "notas_tuplas"
      ]
    },
    {
      "cell_type": "markdown",
      "metadata": {
        "id": "xZv8Z5dHX4rx"
      },
      "source": [
        "# Sets"
      ]
    },
    {
      "cell_type": "code",
      "execution_count": null,
      "metadata": {
        "id": "FX1QbvZaX4rx"
      },
      "outputs": [],
      "source": [
        "set_notas = {3,3,5,5,9,7,8} "
      ]
    },
    {
      "cell_type": "code",
      "execution_count": null,
      "metadata": {
        "id": "zV1rfu8vX4rx",
        "outputId": "6a84af6d-9e0c-49f2-af6b-4c5373a488bd"
      },
      "outputs": [
        {
          "data": {
            "text/plain": [
              "{3, 5, 7, 8, 9}"
            ]
          },
          "execution_count": 15,
          "metadata": {},
          "output_type": "execute_result"
        }
      ],
      "source": [
        "set_notas"
      ]
    },
    {
      "cell_type": "code",
      "execution_count": null,
      "metadata": {
        "id": "6lvwUBBGX4ry"
      },
      "outputs": [],
      "source": [
        "set_notas.add(10)"
      ]
    },
    {
      "cell_type": "code",
      "execution_count": null,
      "metadata": {
        "id": "h5-f8k4SX4ry"
      },
      "outputs": [],
      "source": [
        "set_notas.add(8)"
      ]
    },
    {
      "cell_type": "code",
      "execution_count": null,
      "metadata": {
        "id": "HcUEpOABX4ry",
        "outputId": "5a95618a-4e97-49f2-99cc-bce6e4615bbb"
      },
      "outputs": [
        {
          "data": {
            "text/plain": [
              "{3, 5, 7, 8, 9, 10}"
            ]
          },
          "execution_count": 18,
          "metadata": {},
          "output_type": "execute_result"
        }
      ],
      "source": [
        "set_notas"
      ]
    },
    {
      "cell_type": "markdown",
      "source": [
        "# Condicionais (if e else)"
      ],
      "metadata": {
        "id": "wenvZxjFZPRT"
      }
    },
    {
      "cell_type": "code",
      "execution_count": null,
      "metadata": {
        "id": "3GOkHG64X9dK",
        "outputId": "c3627648-ed1b-4ac5-8c35-99260513705a"
      },
      "outputs": [
        {
          "name": "stdout",
          "output_type": "stream",
          "text": [
            "Continue\n"
          ]
        }
      ],
      "source": [
        "devo_continuar = True\n",
        "if devo_continuar == True:\n",
        "    print('Continue')"
      ]
    },
    {
      "cell_type": "code",
      "execution_count": null,
      "metadata": {
        "id": "MgwD0RVzX9dP",
        "outputId": "3745540f-027e-4bb8-e3a6-02622eb88788"
      },
      "outputs": [
        {
          "name": "stdout",
          "output_type": "stream",
          "text": [
            "Continue\n"
          ]
        }
      ],
      "source": [
        "if devo_continuar:\n",
        "    print('Continue')"
      ]
    },
    {
      "cell_type": "code",
      "execution_count": null,
      "metadata": {
        "id": "4OML1aLNX9dQ"
      },
      "outputs": [],
      "source": [
        "pessoas_conhecidas = ['João','Maria','José','Ana']"
      ]
    },
    {
      "cell_type": "code",
      "execution_count": null,
      "metadata": {
        "id": "2gyrCm0ZX9dR",
        "outputId": "2fcf96fc-64df-4749-a276-79d3cb3c8fae"
      },
      "outputs": [
        {
          "name": "stdout",
          "output_type": "stream",
          "text": [
            "Entre com o nome de uma pessoa:Maria\n"
          ]
        }
      ],
      "source": [
        "pessoa = input('Entre com o nome de uma pessoa:')"
      ]
    },
    {
      "cell_type": "code",
      "execution_count": null,
      "metadata": {
        "id": "Zx0PUEyVX9dR",
        "outputId": "47b5594a-bc9d-4242-dbb1-ce661c4eb5f3"
      },
      "outputs": [
        {
          "data": {
            "text/plain": [
              "'Maria'"
            ]
          },
          "execution_count": 5,
          "metadata": {},
          "output_type": "execute_result"
        }
      ],
      "source": [
        "pessoa"
      ]
    },
    {
      "cell_type": "code",
      "execution_count": null,
      "metadata": {
        "id": "anP9bBBeX9dS",
        "outputId": "3ccfec59-6d76-4912-a107-d1654700ec41"
      },
      "outputs": [
        {
          "name": "stdout",
          "output_type": "stream",
          "text": [
            "Você conhece essa pessoa\n"
          ]
        }
      ],
      "source": [
        "if pessoa in pessoas_conhecidas:\n",
        "    print('Você conhece essa pessoa')"
      ]
    },
    {
      "cell_type": "code",
      "execution_count": null,
      "metadata": {
        "id": "_IkP2kgeX9dT"
      },
      "outputs": [],
      "source": [
        "if pessoa not in pessoas_conhecidas:\n",
        "    print('Você não conhece essa pessoa')"
      ]
    },
    {
      "cell_type": "code",
      "execution_count": null,
      "metadata": {
        "id": "fbGXFXwwX9dT",
        "outputId": "14fdb78f-a209-47c3-9da3-253920e9cb7f"
      },
      "outputs": [
        {
          "name": "stdout",
          "output_type": "stream",
          "text": [
            "Você conhece essa pessoa\n"
          ]
        }
      ],
      "source": [
        "if pessoa in pessoas_conhecidas:\n",
        "    print('Você conhece essa pessoa')\n",
        "else: # se não\n",
        "    print('Você não conhece essa pessoa')"
      ]
    },
    {
      "cell_type": "code",
      "execution_count": null,
      "metadata": {
        "id": "haamwcszX9dU",
        "outputId": "7944f61e-347a-412b-8c2b-b244e479cfff"
      },
      "outputs": [
        {
          "name": "stdout",
          "output_type": "stream",
          "text": [
            "Você conhece Maria\n"
          ]
        }
      ],
      "source": [
        "if pessoa in pessoas_conhecidas:\n",
        "    print(f'Você conhece {pessoa}')\n",
        "else: # se não\n",
        "    print('Você não conhece {}'.format(pessoa))"
      ]
    },
    {
      "cell_type": "markdown",
      "source": [
        "# Loops (while e for)"
      ],
      "metadata": {
        "id": "e3tiEqgbYvTA"
      }
    },
    {
      "cell_type": "code",
      "execution_count": null,
      "metadata": {
        "id": "AMBTQT2nYNbL"
      },
      "outputs": [],
      "source": [
        "notas = [1,2,3,4,5,6]"
      ]
    },
    {
      "cell_type": "code",
      "execution_count": null,
      "metadata": {
        "id": "p7O2NZFWYNbM",
        "outputId": "aaf01a40-a644-4538-d044-855693365126"
      },
      "outputs": [
        {
          "data": {
            "text/plain": [
              "2"
            ]
          },
          "execution_count": 2,
          "metadata": {},
          "output_type": "execute_result"
        }
      ],
      "source": [
        "notas[1]"
      ]
    },
    {
      "cell_type": "code",
      "execution_count": null,
      "metadata": {
        "id": "oEqpDpRDYNbN"
      },
      "outputs": [],
      "source": [
        "minha_variavel = \"ola mundo\""
      ]
    },
    {
      "cell_type": "code",
      "execution_count": null,
      "metadata": {
        "id": "vj3IZHDUYNbN",
        "outputId": "361f37cb-5c1a-4842-ff83-dfef33766fed"
      },
      "outputs": [
        {
          "data": {
            "text/plain": [
              "' '"
            ]
          },
          "execution_count": 4,
          "metadata": {},
          "output_type": "execute_result"
        }
      ],
      "source": [
        "minha_variavel[3]"
      ]
    },
    {
      "cell_type": "code",
      "execution_count": null,
      "metadata": {
        "id": "gBMz0xTZYNbO",
        "outputId": "f49385a0-c4af-4854-8385-98b7851d9257"
      },
      "outputs": [
        {
          "name": "stdout",
          "output_type": "stream",
          "text": [
            "o\n",
            "l\n",
            "a\n",
            " \n",
            "m\n"
          ]
        }
      ],
      "source": [
        "print(minha_variavel[0])\n",
        "print(minha_variavel[1])\n",
        "print(minha_variavel[2])\n",
        "print(minha_variavel[3])\n",
        "print(minha_variavel[4])"
      ]
    },
    {
      "cell_type": "code",
      "execution_count": null,
      "metadata": {
        "id": "RxHLzJjtYNbP",
        "outputId": "058326e3-5afc-4e75-a7bc-37575ea1df38"
      },
      "outputs": [
        {
          "name": "stdout",
          "output_type": "stream",
          "text": [
            "1\n",
            "2\n",
            "3\n",
            "4\n",
            "5\n",
            "6\n"
          ]
        }
      ],
      "source": [
        "for nota in notas:\n",
        "    print(nota)"
      ]
    },
    {
      "cell_type": "code",
      "execution_count": null,
      "metadata": {
        "id": "-ShkWTwLYNbP",
        "outputId": "9bc8c306-28bc-4f0f-9b7f-9c9038616e8b"
      },
      "outputs": [
        {
          "data": {
            "text/plain": [
              "[0, 2, 4, 6, 8, 10]"
            ]
          },
          "execution_count": 7,
          "metadata": {},
          "output_type": "execute_result"
        }
      ],
      "source": [
        "list(range(0,12,2))"
      ]
    },
    {
      "cell_type": "code",
      "execution_count": null,
      "metadata": {
        "id": "1tYebQCLYNbP",
        "outputId": "8d05d12f-6889-4cc0-874f-550568a12b54"
      },
      "outputs": [
        {
          "name": "stdout",
          "output_type": "stream",
          "text": [
            "1\n",
            "9\n",
            "25\n",
            "49\n",
            "81\n"
          ]
        }
      ],
      "source": [
        "for num in range(1,10,2):\n",
        "    print(num ** 2)"
      ]
    },
    {
      "cell_type": "code",
      "execution_count": null,
      "metadata": {
        "id": "L2BsGGZQYNbQ",
        "outputId": "ab0e541b-5279-44c1-dec4-830d92be54f0"
      },
      "outputs": [
        {
          "name": "stdout",
          "output_type": "stream",
          "text": [
            "1\n",
            "9\n",
            "25\n",
            "49\n",
            "81\n"
          ]
        }
      ],
      "source": [
        "num = 1\n",
        "while num <= 9:\n",
        "    print(num ** 2)\n",
        "    num += 2 "
      ]
    },
    {
      "cell_type": "code",
      "execution_count": null,
      "metadata": {
        "id": "Umq7tKtUYNbQ"
      },
      "outputs": [],
      "source": [
        "usuario_quiser = True"
      ]
    },
    {
      "cell_type": "code",
      "execution_count": null,
      "metadata": {
        "id": "A2Ewk3tUYNbQ",
        "outputId": "44f6a5ef-7c9d-42c5-b748-07875d377d2b"
      },
      "outputs": [
        {
          "name": "stdout",
          "output_type": "stream",
          "text": [
            "Continuar? (S/N)S\n",
            "Continuar? (S/N)S\n",
            "Continuar? (S/N)N\n"
          ]
        }
      ],
      "source": [
        "while usuario_quiser:\n",
        "    usuario_input = input(\"Continuar? (S/N)\")\n",
        "    if usuario_input == 'N':\n",
        "        usuario_quiser = False"
      ]
    },
    {
      "cell_type": "markdown",
      "source": [
        "# Dicionarios"
      ],
      "metadata": {
        "id": "6-RTURdQZCec"
      }
    },
    {
      "cell_type": "code",
      "execution_count": null,
      "metadata": {
        "id": "0OhUX8zzYSls"
      },
      "outputs": [],
      "source": [
        "meu_set = {3,2,5}"
      ]
    },
    {
      "cell_type": "code",
      "execution_count": null,
      "metadata": {
        "id": "17gg7gsJYSlt",
        "outputId": "6f01c708-ff23-4abf-9c1d-80ad76174dd9"
      },
      "outputs": [
        {
          "data": {
            "text/plain": [
              "{2, 3, 5}"
            ]
          },
          "execution_count": 2,
          "metadata": {},
          "output_type": "execute_result"
        }
      ],
      "source": [
        "meu_set"
      ]
    },
    {
      "cell_type": "code",
      "execution_count": null,
      "metadata": {
        "id": "gsqrZUM-YSlu"
      },
      "outputs": [],
      "source": [
        "meu_dicionario = {'nome': 'Ana', 'idade': 23, 'notas': [10,9,7.5,6]}"
      ]
    },
    {
      "cell_type": "code",
      "execution_count": null,
      "metadata": {
        "id": "EM9E2GlmYSlu",
        "outputId": "afff5fbf-c6a6-4955-9816-f96acdc15707"
      },
      "outputs": [
        {
          "data": {
            "text/plain": [
              "'Ana'"
            ]
          },
          "execution_count": 4,
          "metadata": {},
          "output_type": "execute_result"
        }
      ],
      "source": [
        "meu_dicionario['nome']"
      ]
    },
    {
      "cell_type": "code",
      "execution_count": null,
      "metadata": {
        "id": "WvTxdcGIYSlv",
        "outputId": "94711024-ec6b-4c3c-f9a5-decd15e50e54"
      },
      "outputs": [
        {
          "data": {
            "text/plain": [
              "23"
            ]
          },
          "execution_count": 5,
          "metadata": {},
          "output_type": "execute_result"
        }
      ],
      "source": [
        "meu_dicionario['idade']"
      ]
    },
    {
      "cell_type": "code",
      "execution_count": null,
      "metadata": {
        "id": "-YY4BTikYSlv",
        "outputId": "3ec4e8bb-7590-4188-9c3a-c7e27f9fc6e0"
      },
      "outputs": [
        {
          "data": {
            "text/plain": [
              "[10, 9, 7.5, 6]"
            ]
          },
          "execution_count": 6,
          "metadata": {},
          "output_type": "execute_result"
        }
      ],
      "source": [
        "meu_dicionario['notas']"
      ]
    },
    {
      "cell_type": "code",
      "execution_count": null,
      "metadata": {
        "id": "d7ldezhaYSlv"
      },
      "outputs": [],
      "source": [
        "universidades = [\n",
        "    {\n",
        "        'nome': 'Universidade Federal do Rio de Janeiro',\n",
        "        'sigla': 'UFRJ'\n",
        "    },\n",
        "    {\n",
        "        'nome': 'Universidade de São Paulo',\n",
        "        'sigla': 'USP'\n",
        "    }\n",
        "]"
      ]
    },
    {
      "cell_type": "code",
      "execution_count": null,
      "metadata": {
        "id": "uuiJ0T_RYSl2",
        "outputId": "0cc1464a-bc4b-4662-a851-77ebc40c6c5f"
      },
      "outputs": [
        {
          "data": {
            "text/plain": [
              "'UFRJ'"
            ]
          },
          "execution_count": 8,
          "metadata": {},
          "output_type": "execute_result"
        }
      ],
      "source": [
        "universidades[0]['sigla']"
      ]
    },
    {
      "cell_type": "code",
      "execution_count": null,
      "metadata": {
        "id": "VOMNM6L1YSl2",
        "outputId": "abdc51ef-636b-4d14-fcc8-d99cc6b614a4"
      },
      "outputs": [
        {
          "data": {
            "text/plain": [
              "'Universidade de São Paulo'"
            ]
          },
          "execution_count": 9,
          "metadata": {},
          "output_type": "execute_result"
        }
      ],
      "source": [
        "universidades[1]['nome']"
      ]
    },
    {
      "cell_type": "markdown",
      "source": [
        "# Compreensão de Listas"
      ],
      "metadata": {
        "id": "d4gIcXMtY5FM"
      }
    },
    {
      "cell_type": "code",
      "execution_count": null,
      "metadata": {
        "id": "IBclVvENYX1u",
        "outputId": "752e3ce6-8654-4b6c-8a50-c9bd0d493836"
      },
      "outputs": [
        {
          "data": {
            "text/plain": [
              "[0, 1, 2, 3, 4]"
            ]
          },
          "execution_count": 1,
          "metadata": {},
          "output_type": "execute_result"
        }
      ],
      "source": [
        "minha_lista = [0,1,2,3,4]\n",
        "minha_lista"
      ]
    },
    {
      "cell_type": "code",
      "execution_count": null,
      "metadata": {
        "id": "ysdk8C_WYX1y",
        "outputId": "b06944a5-4d86-4d00-b53a-f57c89401157"
      },
      "outputs": [
        {
          "data": {
            "text/plain": [
              "[0, 1, 2, 3, 4]"
            ]
          },
          "execution_count": 2,
          "metadata": {},
          "output_type": "execute_result"
        }
      ],
      "source": [
        "[x for x in range(5)]"
      ]
    },
    {
      "cell_type": "code",
      "execution_count": null,
      "metadata": {
        "id": "8MRB3edoYX1z",
        "outputId": "09bb16cc-1263-4fa7-a21c-0fe50b839beb"
      },
      "outputs": [
        {
          "data": {
            "text/plain": [
              "[0, 1, 4, 9, 16]"
            ]
          },
          "execution_count": 3,
          "metadata": {},
          "output_type": "execute_result"
        }
      ],
      "source": [
        "[x**2 for x in range(5)]"
      ]
    },
    {
      "cell_type": "code",
      "execution_count": null,
      "metadata": {
        "id": "BunB5PQVYX10",
        "outputId": "18a0a53d-1a0d-41c0-f6b5-b4a4b3144c81"
      },
      "outputs": [
        {
          "data": {
            "text/plain": [
              "[10, 30, 50, 70, 90]"
            ]
          },
          "execution_count": 4,
          "metadata": {},
          "output_type": "execute_result"
        }
      ],
      "source": [
        "[x*10 for x in range(10) if x % 2 == 1]"
      ]
    },
    {
      "cell_type": "code",
      "execution_count": null,
      "metadata": {
        "id": "LAGz2zgYYX10"
      },
      "outputs": [],
      "source": [
        "pessoas_conhecidas = [' Ana', 'ManuEla', ' felipe ', 'PEDRO']"
      ]
    },
    {
      "cell_type": "code",
      "execution_count": null,
      "metadata": {
        "id": "8p-8Z5a_YX11",
        "outputId": "6e226eb5-2904-4960-fcf5-a882e2702412"
      },
      "outputs": [
        {
          "data": {
            "text/plain": [
              "[' Ana', 'ManuEla', ' felipe ', 'PEDRO']"
            ]
          },
          "execution_count": 6,
          "metadata": {},
          "output_type": "execute_result"
        }
      ],
      "source": [
        "pessoas_conhecidas"
      ]
    },
    {
      "cell_type": "code",
      "execution_count": null,
      "metadata": {
        "id": "MdK6ESH1YX11",
        "outputId": "786757af-6de1-4e7d-ea95-e966de1b3fbe"
      },
      "outputs": [
        {
          "data": {
            "text/plain": [
              "'Felipe'"
            ]
          },
          "execution_count": 7,
          "metadata": {},
          "output_type": "execute_result"
        }
      ],
      "source": [
        "pessoas_conhecidas[2].strip().capitalize()"
      ]
    },
    {
      "cell_type": "code",
      "execution_count": null,
      "metadata": {
        "id": "fRkLbMiiYX12",
        "outputId": "5e54748e-f80c-4de7-c8c3-7b818217f92c"
      },
      "outputs": [
        {
          "data": {
            "text/plain": [
              "['Ana', 'Manuela', 'Felipe', 'Pedro']"
            ]
          },
          "execution_count": 8,
          "metadata": {},
          "output_type": "execute_result"
        }
      ],
      "source": [
        "pessoas_normalizadas = [pessoa.strip().capitalize() for pessoa in pessoas_conhecidas]\n",
        "pessoas_normalizadas"
      ]
    },
    {
      "cell_type": "markdown",
      "source": [
        "# Expressões Lambda"
      ],
      "metadata": {
        "id": "4_DMcZkwZfUe"
      }
    },
    {
      "cell_type": "code",
      "execution_count": null,
      "metadata": {
        "id": "tn-AYIodZfPj"
      },
      "outputs": [],
      "source": [
        "def diz_ola():\n",
        "    print('Olá!')"
      ]
    },
    {
      "cell_type": "code",
      "execution_count": null,
      "metadata": {
        "id": "MNDKgu4WZfPo",
        "outputId": "3fd411ce-fc26-4fc4-981d-6d342a814506"
      },
      "outputs": [
        {
          "name": "stdout",
          "output_type": "stream",
          "text": [
            "Olá!\n"
          ]
        }
      ],
      "source": [
        "diz_ola()"
      ]
    },
    {
      "cell_type": "code",
      "execution_count": null,
      "metadata": {
        "id": "i6ZHsZCuZfPq"
      },
      "outputs": [],
      "source": [
        "ola = lambda : print('Olá!')"
      ]
    },
    {
      "cell_type": "code",
      "execution_count": null,
      "metadata": {
        "id": "bEyxpYDUZfPq",
        "outputId": "25d5bf10-8fe3-4e71-dec2-ca487d71ff31"
      },
      "outputs": [
        {
          "name": "stdout",
          "output_type": "stream",
          "text": [
            "Olá!\n"
          ]
        }
      ],
      "source": [
        "ola()"
      ]
    },
    {
      "cell_type": "code",
      "execution_count": null,
      "metadata": {
        "id": "udW30pUrZfPr"
      },
      "outputs": [],
      "source": [
        "def eleva_ao_quadrado(x):\n",
        "    return x**2"
      ]
    },
    {
      "cell_type": "code",
      "execution_count": null,
      "metadata": {
        "id": "ZA4i6Nj-ZfPs",
        "outputId": "bd9e8ecb-84f9-48c1-c8b6-269e02268532"
      },
      "outputs": [
        {
          "data": {
            "text/plain": [
              "16"
            ]
          },
          "execution_count": 6,
          "metadata": {},
          "output_type": "execute_result"
        }
      ],
      "source": [
        "eleva_ao_quadrado(4)"
      ]
    },
    {
      "cell_type": "code",
      "execution_count": null,
      "metadata": {
        "id": "7MmQXjYIZfPs"
      },
      "outputs": [],
      "source": [
        "aoquadrado = lambda x: x**2"
      ]
    },
    {
      "cell_type": "code",
      "execution_count": null,
      "metadata": {
        "id": "oreWL63AZfPt",
        "outputId": "807a5cfe-2e7b-4474-ca2f-13762f6f8402"
      },
      "outputs": [
        {
          "data": {
            "text/plain": [
              "16"
            ]
          },
          "execution_count": 8,
          "metadata": {},
          "output_type": "execute_result"
        }
      ],
      "source": [
        "aoquadrado(4)"
      ]
    },
    {
      "cell_type": "code",
      "execution_count": null,
      "metadata": {
        "id": "Jqvu5AnnZfPu"
      },
      "outputs": [],
      "source": [
        "def soma_dois_numeros(a,b):\n",
        "    return a+b"
      ]
    },
    {
      "cell_type": "code",
      "execution_count": null,
      "metadata": {
        "id": "SGaQQGX-ZfPv",
        "outputId": "52dff09e-d1e2-4933-df04-79d5877dc7f8"
      },
      "outputs": [
        {
          "data": {
            "text/plain": [
              "5"
            ]
          },
          "execution_count": 10,
          "metadata": {},
          "output_type": "execute_result"
        }
      ],
      "source": [
        "soma_dois_numeros(2,3)"
      ]
    },
    {
      "cell_type": "code",
      "execution_count": null,
      "metadata": {
        "id": "w2HoEcFxZfPw"
      },
      "outputs": [],
      "source": [
        "soma = lambda a,b: a+b"
      ]
    },
    {
      "cell_type": "code",
      "execution_count": null,
      "metadata": {
        "id": "39RQxAUTZfPw",
        "outputId": "c14a4de4-c620-4f9c-c0aa-46995cabc3ed"
      },
      "outputs": [
        {
          "data": {
            "text/plain": [
              "5"
            ]
          },
          "execution_count": 12,
          "metadata": {},
          "output_type": "execute_result"
        }
      ],
      "source": [
        "soma(2,3)"
      ]
    },
    {
      "cell_type": "code",
      "execution_count": null,
      "metadata": {
        "id": "e-ofKbbwZfPx"
      },
      "outputs": [],
      "source": [
        "def impar_ou_par(n):\n",
        "    if n%2 == 0:\n",
        "        print(f'{n} é par')\n",
        "    else:\n",
        "        print(f'{n} é ímpar')"
      ]
    },
    {
      "cell_type": "code",
      "execution_count": null,
      "metadata": {
        "id": "6Rl3Pcz2ZfPy",
        "outputId": "afeff966-a749-43a9-cea7-9b238be67818"
      },
      "outputs": [
        {
          "name": "stdout",
          "output_type": "stream",
          "text": [
            "753 é ímpar\n"
          ]
        }
      ],
      "source": [
        "impar_ou_par(753)"
      ]
    },
    {
      "cell_type": "code",
      "execution_count": null,
      "metadata": {
        "id": "-ahVuz5tZfPy"
      },
      "outputs": [],
      "source": [
        "impoupar = lambda n: print(f'{n} é par') if n%2 == 0 else print(f'{n} é ímpar')"
      ]
    },
    {
      "cell_type": "code",
      "execution_count": null,
      "metadata": {
        "id": "qoDmn7CCZfPz",
        "outputId": "204f5db5-cfd2-4f73-e40b-1d87e97fefe7"
      },
      "outputs": [
        {
          "name": "stdout",
          "output_type": "stream",
          "text": [
            "34343453212 é par\n"
          ]
        }
      ],
      "source": [
        "impoupar(34343453212)"
      ]
    }
  ],
  "metadata": {
    "kernelspec": {
      "display_name": "Python 3",
      "language": "python",
      "name": "python3"
    },
    "language_info": {
      "codemirror_mode": {
        "name": "ipython",
        "version": 3
      },
      "file_extension": ".py",
      "mimetype": "text/x-python",
      "name": "python",
      "nbconvert_exporter": "python",
      "pygments_lexer": "ipython3",
      "version": "3.7.3"
    },
    "colab": {
      "name": "python.ipynb",
      "provenance": [],
      "include_colab_link": true
    }
  },
  "nbformat": 4,
  "nbformat_minor": 0
}