{
  "cells": [
    {
      "cell_type": "markdown",
      "metadata": {
        "id": "view-in-github",
        "colab_type": "text"
      },
      "source": [
        "<a href=\"https://colab.research.google.com/github/leticiajsx/data-science-machine-learning-udemy/blob/main/numpy.ipynb\" target=\"_parent\"><img src=\"https://colab.research.google.com/assets/colab-badge.svg\" alt=\"Open In Colab\"/></a>"
      ]
    },
    {
      "cell_type": "markdown",
      "metadata": {
        "id": "U7Yp2dfcmpcK"
      },
      "source": [
        "# Numpy Arrays"
      ]
    },
    {
      "cell_type": "code",
      "execution_count": null,
      "metadata": {
        "id": "zTGRJAk8mpcL"
      },
      "outputs": [],
      "source": [
        "import numpy as np"
      ]
    },
    {
      "cell_type": "code",
      "execution_count": null,
      "metadata": {
        "id": "UGpsOIVHmpcM"
      },
      "outputs": [],
      "source": [
        "lista = list(range(10))"
      ]
    },
    {
      "cell_type": "code",
      "execution_count": null,
      "metadata": {
        "id": "i7ZD7RdBmpcN",
        "outputId": "ad3f0b8e-45ee-4689-da41-d665b04aa754"
      },
      "outputs": [
        {
          "data": {
            "text/plain": [
              "[0, 1, 2, 3, 4, 5, 6, 7, 8, 9]"
            ]
          },
          "execution_count": 3,
          "metadata": {},
          "output_type": "execute_result"
        }
      ],
      "source": [
        "lista"
      ]
    },
    {
      "cell_type": "code",
      "execution_count": null,
      "metadata": {
        "id": "HGKpP5f0mpcO",
        "outputId": "8a13abee-638f-4ca1-ef39-6095e354de94"
      },
      "outputs": [
        {
          "data": {
            "text/plain": [
              "array([1, 3, 5, 7, 9])"
            ]
          },
          "execution_count": 4,
          "metadata": {},
          "output_type": "execute_result"
        }
      ],
      "source": [
        "np.arange(1,10,2)"
      ]
    },
    {
      "cell_type": "code",
      "execution_count": null,
      "metadata": {
        "id": "_zslTFlImpcO",
        "outputId": "046c002d-500e-43d0-db9c-3c8de2914f5b"
      },
      "outputs": [
        {
          "data": {
            "text/plain": [
              "array([0, 1, 2, 3, 4, 5, 6, 7, 8, 9])"
            ]
          },
          "execution_count": 5,
          "metadata": {},
          "output_type": "execute_result"
        }
      ],
      "source": [
        "a = np.array(lista)\n",
        "a"
      ]
    },
    {
      "cell_type": "code",
      "execution_count": null,
      "metadata": {
        "id": "VtD90SdlmpcP",
        "outputId": "585d0cf7-511b-425f-e798-1f19bb784831"
      },
      "outputs": [
        {
          "data": {
            "text/plain": [
              "list"
            ]
          },
          "execution_count": 6,
          "metadata": {},
          "output_type": "execute_result"
        }
      ],
      "source": [
        "type(lista)"
      ]
    },
    {
      "cell_type": "code",
      "execution_count": null,
      "metadata": {
        "id": "uIPF813smpcP",
        "outputId": "a1dd87b4-a4b1-47a4-8d03-641835dd2dfc"
      },
      "outputs": [
        {
          "data": {
            "text/plain": [
              "numpy.ndarray"
            ]
          },
          "execution_count": 7,
          "metadata": {},
          "output_type": "execute_result"
        }
      ],
      "source": [
        "type(a)"
      ]
    },
    {
      "cell_type": "code",
      "execution_count": null,
      "metadata": {
        "id": "mg7ieyzVmpcQ"
      },
      "outputs": [],
      "source": [
        "misturados = [2.3, 9, 'nome', False]"
      ]
    },
    {
      "cell_type": "code",
      "execution_count": null,
      "metadata": {
        "id": "Wp3LoAA1mpcQ",
        "outputId": "2da1c812-03e7-45a4-90da-d500b78c74d2"
      },
      "outputs": [
        {
          "name": "stdout",
          "output_type": "stream",
          "text": [
            "<class 'float'>\n",
            "<class 'int'>\n",
            "<class 'str'>\n",
            "<class 'bool'>\n"
          ]
        }
      ],
      "source": [
        "for el in misturados:\n",
        "    print(type(el))"
      ]
    },
    {
      "cell_type": "code",
      "execution_count": null,
      "metadata": {
        "id": "cgCQVWXqmpcR"
      },
      "outputs": [],
      "source": [
        "misturados_array = np.array(misturados)"
      ]
    },
    {
      "cell_type": "code",
      "execution_count": null,
      "metadata": {
        "id": "guQkMsjKmpcR",
        "outputId": "78dc4254-a0da-42c4-b299-c6356a488876"
      },
      "outputs": [
        {
          "data": {
            "text/plain": [
              "array(['2.3', '9', 'nome', 'False'], dtype='<U32')"
            ]
          },
          "execution_count": 11,
          "metadata": {},
          "output_type": "execute_result"
        }
      ],
      "source": [
        "misturados_array"
      ]
    },
    {
      "cell_type": "code",
      "execution_count": null,
      "metadata": {
        "id": "FJAS680-mpcS",
        "outputId": "c5e23da9-24a1-4d90-e7dc-b01a4a39ac64"
      },
      "outputs": [
        {
          "name": "stdout",
          "output_type": "stream",
          "text": [
            "<class 'numpy.str_'>\n",
            "<class 'numpy.str_'>\n",
            "<class 'numpy.str_'>\n",
            "<class 'numpy.str_'>\n"
          ]
        }
      ],
      "source": [
        "for el in misturados_array:\n",
        "    print(type(el))"
      ]
    },
    {
      "cell_type": "code",
      "execution_count": null,
      "metadata": {
        "id": "N8jU9w4fmpcS"
      },
      "outputs": [],
      "source": [
        "nums = [1,2,3,4,5]"
      ]
    },
    {
      "cell_type": "code",
      "execution_count": null,
      "metadata": {
        "id": "Hp25UPiTmpcT",
        "outputId": "45517353-5651-46cd-f42a-2b0cea9b9bec"
      },
      "outputs": [
        {
          "data": {
            "text/plain": [
              "array([1, 2, 3, 4, 5])"
            ]
          },
          "execution_count": 14,
          "metadata": {},
          "output_type": "execute_result"
        }
      ],
      "source": [
        "np.array(nums)"
      ]
    },
    {
      "cell_type": "markdown",
      "metadata": {
        "id": "to9dcnRGmpcT"
      },
      "source": [
        "# Numpy Array (Operações Inteligentes)"
      ]
    },
    {
      "cell_type": "code",
      "execution_count": null,
      "metadata": {
        "id": "FUUoo4mRmpcT"
      },
      "outputs": [],
      "source": [
        "import numpy as np"
      ]
    },
    {
      "cell_type": "code",
      "execution_count": null,
      "metadata": {
        "id": "r4s-aW9ympcU"
      },
      "outputs": [],
      "source": [
        "lista = [1,2,3,4,5]"
      ]
    },
    {
      "cell_type": "code",
      "execution_count": null,
      "metadata": {
        "id": "jeYb-csEmpcU"
      },
      "outputs": [],
      "source": [
        "array = np.array(lista)"
      ]
    },
    {
      "cell_type": "code",
      "execution_count": null,
      "metadata": {
        "id": "hMR84q-KmpcU",
        "outputId": "40d4d06e-2974-4da2-fdb8-982c673993ad"
      },
      "outputs": [
        {
          "data": {
            "text/plain": [
              "array([21, 22, 23, 24, 25])"
            ]
          },
          "execution_count": 18,
          "metadata": {},
          "output_type": "execute_result"
        }
      ],
      "source": [
        "array+20"
      ]
    },
    {
      "cell_type": "code",
      "execution_count": null,
      "metadata": {
        "id": "6y14IhiTmpcU"
      },
      "outputs": [],
      "source": [
        "lista20 = []\n",
        "for n in lista:\n",
        "    lista20.append(n+20)"
      ]
    },
    {
      "cell_type": "code",
      "execution_count": null,
      "metadata": {
        "id": "gSIu1uEtmpcV",
        "outputId": "97442272-71ab-43f4-e3d6-7bb3834f42bf"
      },
      "outputs": [
        {
          "data": {
            "text/plain": [
              "[21, 22, 23, 24, 25]"
            ]
          },
          "execution_count": 20,
          "metadata": {},
          "output_type": "execute_result"
        }
      ],
      "source": [
        "lista20"
      ]
    },
    {
      "cell_type": "code",
      "execution_count": null,
      "metadata": {
        "id": "uw9dc1shmpcV",
        "outputId": "1a700260-c14d-42f2-9a37-6d22b24e51aa"
      },
      "outputs": [
        {
          "data": {
            "text/plain": [
              "[1, 2, 3, 4, 5]"
            ]
          },
          "execution_count": 21,
          "metadata": {},
          "output_type": "execute_result"
        }
      ],
      "source": [
        "lista"
      ]
    },
    {
      "cell_type": "code",
      "execution_count": null,
      "metadata": {
        "id": "WZUXJAJTmpcV",
        "outputId": "58da2af5-a5c8-49a3-8431-812556b22ddc"
      },
      "outputs": [
        {
          "data": {
            "text/plain": [
              "[21, 22, 23, 24, 25]"
            ]
          },
          "execution_count": 22,
          "metadata": {},
          "output_type": "execute_result"
        }
      ],
      "source": [
        "[n+20 for n in lista]"
      ]
    },
    {
      "cell_type": "code",
      "execution_count": null,
      "metadata": {
        "id": "zA5aGXlbmpcV",
        "outputId": "45dc285a-bea8-4855-a94e-6048b5bf3602"
      },
      "outputs": [
        {
          "data": {
            "text/plain": [
              "array([1.        , 1.41421356, 1.73205081, 2.        , 2.23606798])"
            ]
          },
          "execution_count": 23,
          "metadata": {},
          "output_type": "execute_result"
        }
      ],
      "source": [
        "np.sqrt(array)"
      ]
    },
    {
      "cell_type": "code",
      "execution_count": null,
      "metadata": {
        "id": "tsNHDc6DmpcW"
      },
      "outputs": [],
      "source": [
        "narray = [2.8, 2.3, 1.6, 1.2, 1.94]"
      ]
    },
    {
      "cell_type": "code",
      "execution_count": null,
      "metadata": {
        "id": "MO84l57PmpcW",
        "outputId": "251ec77a-e47a-4d3e-fea4-846e1971b021"
      },
      "outputs": [
        {
          "data": {
            "text/plain": [
              "array([2.8 , 2.3 , 1.6 , 1.2 , 1.94])"
            ]
          },
          "execution_count": 25,
          "metadata": {},
          "output_type": "execute_result"
        }
      ],
      "source": [
        "narray = np.array(narray)\n",
        "narray"
      ]
    },
    {
      "cell_type": "code",
      "execution_count": null,
      "metadata": {
        "id": "eV1CNx9empcW",
        "outputId": "b668c408-ac50-4eaa-f6e9-4ddd01c1d36a"
      },
      "outputs": [
        {
          "data": {
            "text/plain": [
              "array([3., 3., 2., 2., 2.])"
            ]
          },
          "execution_count": 26,
          "metadata": {},
          "output_type": "execute_result"
        }
      ],
      "source": [
        "np.ceil(narray)"
      ]
    },
    {
      "cell_type": "code",
      "execution_count": null,
      "metadata": {
        "id": "EdQaDu9impcW",
        "outputId": "bea4d061-ea42-45ac-bdc6-7fa0dd679cbf"
      },
      "outputs": [
        {
          "data": {
            "text/plain": [
              "array([2., 2., 1., 1., 1.])"
            ]
          },
          "execution_count": 27,
          "metadata": {},
          "output_type": "execute_result"
        }
      ],
      "source": [
        "np.floor(narray)"
      ]
    },
    {
      "cell_type": "code",
      "execution_count": null,
      "metadata": {
        "id": "QLf64_oSmpcX",
        "outputId": "0c3fc348-7220-4f48-c10c-fbbe8ab35d5f"
      },
      "outputs": [
        {
          "data": {
            "text/plain": [
              "array([3., 2., 2., 1., 2.])"
            ]
          },
          "execution_count": 28,
          "metadata": {},
          "output_type": "execute_result"
        }
      ],
      "source": [
        "np.around(narray,0)"
      ]
    },
    {
      "cell_type": "markdown",
      "metadata": {
        "id": "IGZZ5bX_mpcX"
      },
      "source": [
        "# Numpy Array (Indexando e Cortando _'Slicing'_)"
      ]
    },
    {
      "cell_type": "code",
      "execution_count": null,
      "metadata": {
        "id": "AOX2l9WTmpcX"
      },
      "outputs": [],
      "source": [
        "import numpy as np"
      ]
    },
    {
      "cell_type": "code",
      "execution_count": null,
      "metadata": {
        "id": "nXPGrPVsmpcX"
      },
      "outputs": [],
      "source": [
        "array = np.arange(1,11)"
      ]
    },
    {
      "cell_type": "code",
      "execution_count": null,
      "metadata": {
        "id": "a12p08SGmpcX",
        "outputId": "5eeb628f-d5cf-4cd3-f0c0-10efeba16a85"
      },
      "outputs": [
        {
          "data": {
            "text/plain": [
              "array([ 1,  2,  3,  4,  5,  6,  7,  8,  9, 10])"
            ]
          },
          "execution_count": 31,
          "metadata": {},
          "output_type": "execute_result"
        }
      ],
      "source": [
        "array"
      ]
    },
    {
      "cell_type": "code",
      "execution_count": null,
      "metadata": {
        "id": "SEM37qghmpcX",
        "outputId": "01db9125-7469-4f1f-8e1a-bd0eca96f54a"
      },
      "outputs": [
        {
          "data": {
            "text/plain": [
              "1"
            ]
          },
          "execution_count": 32,
          "metadata": {},
          "output_type": "execute_result"
        }
      ],
      "source": [
        "array[0]"
      ]
    },
    {
      "cell_type": "code",
      "execution_count": null,
      "metadata": {
        "id": "1s6oRGx0mpcY",
        "outputId": "2fc41bd8-5aec-4f5d-9c46-a442c8d2ffaa"
      },
      "outputs": [
        {
          "data": {
            "text/plain": [
              "2"
            ]
          },
          "execution_count": 33,
          "metadata": {},
          "output_type": "execute_result"
        }
      ],
      "source": [
        "array[1]"
      ]
    },
    {
      "cell_type": "code",
      "execution_count": null,
      "metadata": {
        "id": "egNvhaAPmpcY",
        "outputId": "aacacd93-a952-493c-b0c4-7c356ab621de"
      },
      "outputs": [
        {
          "data": {
            "text/plain": [
              "3"
            ]
          },
          "execution_count": 34,
          "metadata": {},
          "output_type": "execute_result"
        }
      ],
      "source": [
        "array[2]"
      ]
    },
    {
      "cell_type": "code",
      "execution_count": null,
      "metadata": {
        "id": "3DU2F2MwmpcY",
        "outputId": "140e14ff-3b6c-4284-cd8c-748991950b43"
      },
      "outputs": [
        {
          "data": {
            "text/plain": [
              "7"
            ]
          },
          "execution_count": 35,
          "metadata": {},
          "output_type": "execute_result"
        }
      ],
      "source": [
        "array[6]"
      ]
    },
    {
      "cell_type": "code",
      "execution_count": null,
      "metadata": {
        "id": "M15UWdYPmpcY",
        "outputId": "ef2c0cf7-daaf-4f84-ac89-a1b060efac3a"
      },
      "outputs": [
        {
          "data": {
            "text/plain": [
              "10"
            ]
          },
          "execution_count": 36,
          "metadata": {},
          "output_type": "execute_result"
        }
      ],
      "source": [
        "array[-1] # ultimo elemento"
      ]
    },
    {
      "cell_type": "code",
      "execution_count": null,
      "metadata": {
        "id": "pbfQp4wjmpcY",
        "outputId": "0c4d6b6c-dbc2-4890-bc68-85b8ba137133"
      },
      "outputs": [
        {
          "data": {
            "text/plain": [
              "array([3, 4, 5, 6])"
            ]
          },
          "execution_count": 37,
          "metadata": {},
          "output_type": "execute_result"
        }
      ],
      "source": [
        "array[2:6]"
      ]
    },
    {
      "cell_type": "code",
      "execution_count": null,
      "metadata": {
        "id": "HuMjpbkYmpcY",
        "outputId": "839a6ed8-4326-498b-81d7-a33da7238ebb"
      },
      "outputs": [
        {
          "data": {
            "text/plain": [
              "array([ 1,  2,  3,  4,  5,  6,  7,  8,  9, 10])"
            ]
          },
          "execution_count": 38,
          "metadata": {},
          "output_type": "execute_result"
        }
      ],
      "source": [
        "array[:]"
      ]
    },
    {
      "cell_type": "code",
      "execution_count": null,
      "metadata": {
        "id": "c-UJuvoxmpcZ",
        "outputId": "42c988a3-c50b-4d11-f9e6-ccbc4ceff7da"
      },
      "outputs": [
        {
          "data": {
            "text/plain": [
              "array([1, 2, 3, 4, 5])"
            ]
          },
          "execution_count": 39,
          "metadata": {},
          "output_type": "execute_result"
        }
      ],
      "source": [
        "array[:5]"
      ]
    },
    {
      "cell_type": "code",
      "execution_count": null,
      "metadata": {
        "id": "uSU-GN7fmpcZ",
        "outputId": "e5ac5b8f-52d5-40c0-c88e-c6db3b3245b6"
      },
      "outputs": [
        {
          "data": {
            "text/plain": [
              "array([ 6,  7,  8,  9, 10])"
            ]
          },
          "execution_count": 40,
          "metadata": {},
          "output_type": "execute_result"
        }
      ],
      "source": [
        "array[5:]"
      ]
    },
    {
      "cell_type": "code",
      "execution_count": null,
      "metadata": {
        "id": "YlpwlCQCmpcZ",
        "outputId": "c39ea9b0-a280-4731-dae7-87c09e135fc0"
      },
      "outputs": [
        {
          "data": {
            "text/plain": [
              "array([10,  9,  8,  7,  6,  5,  4,  3,  2,  1])"
            ]
          },
          "execution_count": 41,
          "metadata": {},
          "output_type": "execute_result"
        }
      ],
      "source": [
        "array[::-1]"
      ]
    },
    {
      "cell_type": "code",
      "execution_count": null,
      "metadata": {
        "id": "SEMvgm1ZmpcZ",
        "outputId": "50803058-ebfb-415b-c2c9-13f6087c7fe6"
      },
      "outputs": [
        {
          "data": {
            "text/plain": [
              "array([ 2,  4,  6,  8, 10])"
            ]
          },
          "execution_count": 42,
          "metadata": {},
          "output_type": "execute_result"
        }
      ],
      "source": [
        "array[1::2]"
      ]
    },
    {
      "cell_type": "code",
      "execution_count": null,
      "metadata": {
        "id": "giFwVQXtmpcZ",
        "outputId": "2fd2d550-6f16-4206-92eb-3e28792ed379"
      },
      "outputs": [
        {
          "data": {
            "text/plain": [
              "array([ 1,  4,  7, 10])"
            ]
          },
          "execution_count": 43,
          "metadata": {},
          "output_type": "execute_result"
        }
      ],
      "source": [
        "array[::3]"
      ]
    },
    {
      "cell_type": "code",
      "execution_count": null,
      "metadata": {
        "id": "d6dNSk8YmpcZ",
        "outputId": "7f56a9e1-b74b-4a0a-f670-1cbe3ed82270"
      },
      "outputs": [
        {
          "data": {
            "text/plain": [
              "array([1, 3, 5, 7, 9])"
            ]
          },
          "execution_count": 44,
          "metadata": {},
          "output_type": "execute_result"
        }
      ],
      "source": [
        "array[::2]"
      ]
    },
    {
      "cell_type": "markdown",
      "metadata": {
        "id": "DMYapFrdmpca"
      },
      "source": [
        "# Numpy Array (Multiplas Dimensões)"
      ]
    },
    {
      "cell_type": "code",
      "execution_count": null,
      "metadata": {
        "id": "5lWOOwbdmpca"
      },
      "outputs": [],
      "source": [
        "import numpy as np"
      ]
    },
    {
      "cell_type": "code",
      "execution_count": null,
      "metadata": {
        "id": "NW_RC7wJmpca"
      },
      "outputs": [],
      "source": [
        "array = np.arange(1,13)"
      ]
    },
    {
      "cell_type": "code",
      "execution_count": null,
      "metadata": {
        "id": "tjbn1YVkmpca",
        "outputId": "e3fc7faf-9568-4ce0-fe22-1f3ad6c507dc"
      },
      "outputs": [
        {
          "data": {
            "text/plain": [
              "array([ 1,  2,  3,  4,  5,  6,  7,  8,  9, 10, 11, 12])"
            ]
          },
          "execution_count": 47,
          "metadata": {},
          "output_type": "execute_result"
        }
      ],
      "source": [
        "array"
      ]
    },
    {
      "cell_type": "code",
      "execution_count": null,
      "metadata": {
        "id": "pfn2Fr8hmpcb",
        "outputId": "8764ac35-e475-42e7-cdd7-bd3d886229c5"
      },
      "outputs": [
        {
          "data": {
            "text/plain": [
              "(12,)"
            ]
          },
          "execution_count": 48,
          "metadata": {},
          "output_type": "execute_result"
        }
      ],
      "source": [
        "array.shape"
      ]
    },
    {
      "cell_type": "code",
      "execution_count": null,
      "metadata": {
        "id": "U3ztHTXCmpcb",
        "outputId": "4de28a7c-1922-446d-e909-c1a8c67b5b8a"
      },
      "outputs": [
        {
          "data": {
            "text/plain": [
              "array([[ 1,  2],\n",
              "       [ 3,  4],\n",
              "       [ 5,  6],\n",
              "       [ 7,  8],\n",
              "       [ 9, 10],\n",
              "       [11, 12]])"
            ]
          },
          "execution_count": 49,
          "metadata": {},
          "output_type": "execute_result"
        }
      ],
      "source": [
        "remodelado = array.reshape(6,2)\n",
        "remodelado"
      ]
    },
    {
      "cell_type": "code",
      "execution_count": null,
      "metadata": {
        "id": "QdK2_3gjmpcb",
        "outputId": "219a9b3b-bcec-4ac8-c380-f775043b9d1b"
      },
      "outputs": [
        {
          "data": {
            "text/plain": [
              "array([[ 1,  2,  3,  4,  5,  6],\n",
              "       [ 7,  8,  9, 10, 11, 12]])"
            ]
          },
          "execution_count": 50,
          "metadata": {},
          "output_type": "execute_result"
        }
      ],
      "source": [
        "remodelado = array.reshape(2,6)\n",
        "remodelado"
      ]
    },
    {
      "cell_type": "code",
      "execution_count": null,
      "metadata": {
        "id": "fAdiJvESmpcb",
        "outputId": "ad05106c-8e5d-49a3-d27a-bf14db6b0cb7"
      },
      "outputs": [
        {
          "data": {
            "text/plain": [
              "array([[  1,   4,   9,  16,  25,  36],\n",
              "       [ 49,  64,  81, 100, 121, 144]])"
            ]
          },
          "execution_count": 51,
          "metadata": {},
          "output_type": "execute_result"
        }
      ],
      "source": [
        "remodelado**2"
      ]
    },
    {
      "cell_type": "code",
      "execution_count": null,
      "metadata": {
        "id": "Nxwij1FImpcc",
        "outputId": "06f35de1-1838-446f-eee8-3d83511ca00f"
      },
      "outputs": [
        {
          "data": {
            "text/plain": [
              "array([[ 1,  2,  3,  4],\n",
              "       [ 5,  6,  7,  8],\n",
              "       [ 9, 10, 11, 12]])"
            ]
          },
          "execution_count": 52,
          "metadata": {},
          "output_type": "execute_result"
        }
      ],
      "source": [
        "remodelado = array.reshape(3,4)\n",
        "remodelado"
      ]
    },
    {
      "cell_type": "code",
      "execution_count": null,
      "metadata": {
        "id": "2CeSVDLqmpcc",
        "outputId": "e4a78669-8667-4703-dc86-83a4899e19dc"
      },
      "outputs": [
        {
          "data": {
            "text/plain": [
              "(3, 4)"
            ]
          },
          "execution_count": 53,
          "metadata": {},
          "output_type": "execute_result"
        }
      ],
      "source": [
        "remodelado.shape"
      ]
    },
    {
      "cell_type": "code",
      "execution_count": null,
      "metadata": {
        "id": "8RWlrGHQmpcf",
        "outputId": "03c758b4-7006-49ec-95b7-5b8297789910"
      },
      "outputs": [
        {
          "data": {
            "text/plain": [
              "array([[[ 1,  2,  3],\n",
              "        [ 4,  5,  6]],\n",
              "\n",
              "       [[ 7,  8,  9],\n",
              "        [10, 11, 12]]])"
            ]
          },
          "execution_count": 54,
          "metadata": {},
          "output_type": "execute_result"
        }
      ],
      "source": [
        "remodelado = array.reshape(2,2,3)\n",
        "remodelado"
      ]
    },
    {
      "cell_type": "code",
      "execution_count": null,
      "metadata": {
        "id": "DVNHSDTSmpcf",
        "outputId": "6dedac9f-2a0b-4566-9276-0bbbdc95a762"
      },
      "outputs": [
        {
          "data": {
            "text/plain": [
              "(2, 2, 3)"
            ]
          },
          "execution_count": 55,
          "metadata": {},
          "output_type": "execute_result"
        }
      ],
      "source": [
        "remodelado.shape"
      ]
    },
    {
      "cell_type": "code",
      "execution_count": null,
      "metadata": {
        "id": "hECh701Zmpcg",
        "outputId": "748c2ccd-fa40-478c-d037-3b375ea45ef3"
      },
      "outputs": [
        {
          "data": {
            "text/plain": [
              "8"
            ]
          },
          "execution_count": 56,
          "metadata": {},
          "output_type": "execute_result"
        }
      ],
      "source": [
        "remodelado[1][0][1]"
      ]
    },
    {
      "cell_type": "markdown",
      "metadata": {
        "id": "jJshnMqDmpcg"
      },
      "source": [
        "# Numpy Array e Boolean"
      ]
    },
    {
      "cell_type": "code",
      "execution_count": null,
      "metadata": {
        "id": "E3uUW6Crmpcg"
      },
      "outputs": [],
      "source": [
        "import numpy as np"
      ]
    },
    {
      "cell_type": "code",
      "execution_count": null,
      "metadata": {
        "id": "rUZeov82mpcg"
      },
      "outputs": [],
      "source": [
        "array = np.arange(11)"
      ]
    },
    {
      "cell_type": "code",
      "execution_count": null,
      "metadata": {
        "id": "mxVkmXWwmpch",
        "outputId": "a238ba19-784b-4ecd-f506-9adfdae9de45"
      },
      "outputs": [
        {
          "data": {
            "text/plain": [
              "array([ 0,  1,  2,  3,  4,  5,  6,  7,  8,  9, 10])"
            ]
          },
          "execution_count": 59,
          "metadata": {},
          "output_type": "execute_result"
        }
      ],
      "source": [
        "array"
      ]
    },
    {
      "cell_type": "code",
      "execution_count": null,
      "metadata": {
        "id": "64DEiDc0mpch"
      },
      "outputs": [],
      "source": [
        "cond = array > 5"
      ]
    },
    {
      "cell_type": "code",
      "execution_count": null,
      "metadata": {
        "id": "xu78AfHPmpch",
        "outputId": "d2a7c9b5-f107-47d3-964f-8e11967878df"
      },
      "outputs": [
        {
          "data": {
            "text/plain": [
              "array([False, False, False, False, False, False,  True,  True,  True,\n",
              "        True,  True])"
            ]
          },
          "execution_count": 61,
          "metadata": {},
          "output_type": "execute_result"
        }
      ],
      "source": [
        "cond"
      ]
    },
    {
      "cell_type": "code",
      "execution_count": null,
      "metadata": {
        "id": "pqHJc69Impch",
        "outputId": "a58e8cc2-0f37-4a38-dcc6-b5ca85e9216d"
      },
      "outputs": [
        {
          "data": {
            "text/plain": [
              "array([False, False, False, False, False, False,  True,  True,  True,\n",
              "       False, False])"
            ]
          },
          "execution_count": 62,
          "metadata": {},
          "output_type": "execute_result"
        }
      ],
      "source": [
        "cond2 = (array > 5) & (array < 9)\n",
        "cond2"
      ]
    },
    {
      "cell_type": "code",
      "execution_count": null,
      "metadata": {
        "id": "YEDqmFKgmpci",
        "outputId": "765126d6-bce1-4749-ea23-5a34e22c76b6"
      },
      "outputs": [
        {
          "data": {
            "text/plain": [
              "array([ True,  True,  True,  True,  True,  True,  True,  True,  True,\n",
              "        True,  True])"
            ]
          },
          "execution_count": 63,
          "metadata": {},
          "output_type": "execute_result"
        }
      ],
      "source": [
        "cond2 = (array > 5) | (array < 9)\n",
        "cond2"
      ]
    },
    {
      "cell_type": "markdown",
      "metadata": {
        "id": "Dbqy9bZRmpci"
      },
      "source": [
        "# Numpy e Números Aleatórios"
      ]
    },
    {
      "cell_type": "code",
      "execution_count": null,
      "metadata": {
        "id": "tmuDp0Aqmpci"
      },
      "outputs": [],
      "source": [
        "import numpy as np"
      ]
    },
    {
      "cell_type": "code",
      "execution_count": null,
      "metadata": {
        "id": "uaLWj7WImpci",
        "outputId": "efc9771a-88c5-400f-bddc-036b7915324a"
      },
      "outputs": [
        {
          "data": {
            "text/plain": [
              "array([67, 93, 99, 18, 84, 58, 87, 98, 97, 48, 74, 33, 47, 97, 26, 84, 79,\n",
              "       37, 97, 81])"
            ]
          },
          "execution_count": 65,
          "metadata": {},
          "output_type": "execute_result"
        }
      ],
      "source": [
        "np.random.seed(123)\n",
        "array = np.random.randint(1,101,20)\n",
        "array"
      ]
    },
    {
      "cell_type": "code",
      "execution_count": null,
      "metadata": {
        "id": "E2vuqY7rmpci",
        "outputId": "1730a5b7-dcdb-4e77-b8a0-192930ac592c"
      },
      "outputs": [
        {
          "data": {
            "text/plain": [
              "array([ 8.46113306, 11.15349204, 10.25305184, ...,  8.6945547 ,\n",
              "       10.2726704 , 12.37090315])"
            ]
          },
          "execution_count": 66,
          "metadata": {},
          "output_type": "execute_result"
        }
      ],
      "source": [
        "array = np.random.normal(10,2,2000)\n",
        "array"
      ]
    },
    {
      "cell_type": "code",
      "execution_count": null,
      "metadata": {
        "id": "lD6L1Rommpci"
      },
      "outputs": [],
      "source": [
        "import matplotlib.pyplot as plt"
      ]
    },
    {
      "cell_type": "code",
      "execution_count": null,
      "metadata": {
        "id": "eo44iINjmpcj",
        "outputId": "fedb6bf6-ec94-4927-fdd1-7e75d69dd34f"
      },
      "outputs": [
        {
          "data": {
            "text/plain": [
              "(array([ 10.,  48., 159., 365., 527., 473., 277., 107.,  31.,   3.]),\n",
              " array([ 3.48644061,  4.83348609,  6.18053158,  7.52757706,  8.87462255,\n",
              "        10.22166803, 11.56871352, 12.915759  , 14.26280448, 15.60984997,\n",
              "        16.95689545]),\n",
              " <a list of 10 Patch objects>)"
            ]
          },
          "execution_count": 68,
          "metadata": {},
          "output_type": "execute_result"
        },
        {
          "data": {
            "image/png": "[encoded data removed]",
            "text/plain": [
              "<Figure size 432x288 with 1 Axes>"
            ]
          },
          "metadata": {
            "needs_background": "light"
          },
          "output_type": "display_data"
        }
      ],
      "source": [
        "plt.hist(array)"
      ]
    }
  ],
  "metadata": {
    "kernelspec": {
      "display_name": "Python 3",
      "language": "python",
      "name": "python3"
    },
    "language_info": {
      "codemirror_mode": {
        "name": "ipython",
        "version": 3
      },
      "file_extension": ".py",
      "mimetype": "text/x-python",
      "name": "python",
      "nbconvert_exporter": "python",
      "pygments_lexer": "ipython3",
      "version": "3.7.3"
    },
    "colab": {
      "name": "numpy.ipynb",
      "provenance": [],
      "include_colab_link": true
    }
  },
  "nbformat": 4,
  "nbformat_minor": 0
}